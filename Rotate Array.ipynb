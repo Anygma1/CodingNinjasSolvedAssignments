{
 "cells": [
  {
   "cell_type": "markdown",
   "metadata": {},
   "source": [
    "## Rotate array:\n",
    "Given a random integer array of size n, write a function that rotates the given array by d elements (towards left)\n",
    "Change in the input array itself. You don't need to return or print elements.\n",
    "\n",
    "### Input format :\n",
    "Line 1 : Integer n (Array Size)\n",
    "\n",
    "Line 2 : Array elements (separated by space)\n",
    "\n",
    "Line 3 : Integer d\n",
    "\n",
    "### Output Format :\n",
    "Updated array elements (separated by space)\n",
    "\n",
    "### Constraints :\n",
    "1 <= N <= 1000\n",
    "1 <= d <= N\n",
    "\n",
    "### Sample Input :\n",
    "7\n",
    "\n",
    "1 2 3 4 5 6 7\n",
    "\n",
    "2\n",
    "\n",
    "### Sample Output :\n",
    "3 4 5 6 7 1 2"
   ]
  },
  {
   "cell_type": "code",
   "execution_count": 1,
   "metadata": {},
   "outputs": [
    {
     "name": "stdout",
     "output_type": "stream",
     "text": [
      "7\n",
      "1 2 3 4 5 6 7\n",
      "2\n",
      "3 4 5 6 7 1 2 "
     ]
    }
   ],
   "source": [
    "def Rotate(arr, d):\n",
    "    n = len(arr)\n",
    "    mod = d % n \n",
    "    for i in range(n): \n",
    "        print (arr[(mod + i) % n],end = ' ')\n",
    "    \n",
    "\n",
    "# Main\n",
    "n=int(input())\n",
    "arr=list(int(i) for i in input().strip().split(' '))\n",
    "d=int(input())\n",
    "ans = Rotate(arr, d)"
   ]
  }
 ],
 "metadata": {
  "kernelspec": {
   "display_name": "Python 3",
   "language": "python",
   "name": "python3"
  },
  "language_info": {
   "codemirror_mode": {
    "name": "ipython",
    "version": 3
   },
   "file_extension": ".py",
   "mimetype": "text/x-python",
   "name": "python",
   "nbconvert_exporter": "python",
   "pygments_lexer": "ipython3",
   "version": "3.7.3"
  }
 },
 "nbformat": 4,
 "nbformat_minor": 2
}
