{
 "cells": [
  {
   "cell_type": "markdown",
   "metadata": {},
   "source": [
    "## Compress the String:\n",
    "Write a program to do basic string compression. For a character which is consecutively repeated more than once, replace consecutive duplicate occurrences with the count of repetitions.\n",
    "\n",
    "For e.g. if a String has 'x' repeated 5 times, replace this \"xxxxx\" with \"x5\".\n",
    "\n",
    "Note : Consecutive count of every character in input string is less than equal to 9.\n",
    "\n",
    "### Input Format :\n",
    "Input string S\n",
    "\n",
    "### Output Format :\n",
    "Compressed string \n",
    "\n",
    "### Sample Input:\n",
    "aaabbccdsa\n",
    "\n",
    "### Sample Output:\n",
    "a3b2c2dsa"
   ]
  },
  {
   "cell_type": "code",
   "execution_count": null,
   "metadata": {},
   "outputs": [],
   "source": [
    "def stringCompression(s):\n",
    "    i = 0\n",
    "    res = []\n",
    "    while i < len(s) :\n",
    "        j = i + 1\n",
    "        c = 1\n",
    "        while j < len(s):\n",
    "            if s[i] == s[j]:\n",
    "                c+=1\n",
    "                j+=1\n",
    "                \n",
    "            else:\n",
    "                break\n",
    "            \n",
    "        if c > 1:\n",
    "            res.append(s[i])\n",
    "            res.append(c)\n",
    "            \n",
    "        else:\n",
    "            res.append(s[i])\n",
    "            \n",
    "        i = i + c\n",
    "                \n",
    "    for i in range(len(res)):\n",
    "        print(res[i],end ='')\n",
    "           \n",
    "\n",
    "s = input()\n",
    "stringCompression(s)"
   ]
  }
 ],
 "metadata": {
  "kernelspec": {
   "display_name": "Python 3",
   "language": "python",
   "name": "python3"
  },
  "language_info": {
   "codemirror_mode": {
    "name": "ipython",
    "version": 3
   },
   "file_extension": ".py",
   "mimetype": "text/x-python",
   "name": "python",
   "nbconvert_exporter": "python",
   "pygments_lexer": "ipython3",
   "version": "3.7.3"
  }
 },
 "nbformat": 4,
 "nbformat_minor": 2
}
