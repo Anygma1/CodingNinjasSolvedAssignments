{
 "cells": [
  {
   "cell_type": "markdown",
   "metadata": {},
   "source": [
    "## Check array rotation:\n",
    "Given an integer array, which is sorted (in increasing order) and has been rotated by some number k in clockwise direction. Find and return the k.\n",
    "\n",
    "### Input format :\n",
    "Line 1 : Integer n (Array Size)\n",
    "\n",
    "Line 2 : Array elements (separated by space)\n",
    "\n",
    "### Output Format :\n",
    "Integer k\n",
    "\n",
    "### Constraints :\n",
    "1 <= n <= 1000\n",
    "\n",
    "### Sample Input 1:\n",
    "6\n",
    "\n",
    "5 6 1 2 3 4\n",
    "\n",
    "### Sample Output 1:\n",
    "2\n",
    "\n",
    "### Sample Input 2:\n",
    "5\n",
    "\n",
    "3 6 8 9 10\n",
    "\n",
    "### Sample Output 2:\n",
    "0"
   ]
  },
  {
   "cell_type": "code",
   "execution_count": 1,
   "metadata": {},
   "outputs": [
    {
     "name": "stdout",
     "output_type": "stream",
     "text": [
      "6\n",
      "5 6 1 2 3 4\n",
      "2\n"
     ]
    }
   ],
   "source": [
    "def checkRotate(arr):\n",
    "    m = min(arr)\n",
    "    print(arr.index(m))\n",
    "    \n",
    "n=int(input())\n",
    "arr = [int(x) for x in input().split()[:n]]\n",
    "checkRotate(arr)"
   ]
  }
 ],
 "metadata": {
  "kernelspec": {
   "display_name": "Python 3",
   "language": "python",
   "name": "python3"
  },
  "language_info": {
   "codemirror_mode": {
    "name": "ipython",
    "version": 3
   },
   "file_extension": ".py",
   "mimetype": "text/x-python",
   "name": "python",
   "nbconvert_exporter": "python",
   "pygments_lexer": "ipython3",
   "version": "3.7.3"
  }
 },
 "nbformat": 4,
 "nbformat_minor": 2
}
