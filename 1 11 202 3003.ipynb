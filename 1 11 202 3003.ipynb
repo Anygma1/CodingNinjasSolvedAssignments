{
 "cells": [
  {
   "cell_type": "markdown",
   "metadata": {},
   "source": [
    "## Number Pattern 2:\n",
    "Print the following pattern for the given N number of rows.\n",
    "\n",
    "Pattern for N = 4\n",
    "\n",
    "1\n",
    "\n",
    "11\n",
    "\n",
    "202\n",
    "\n",
    "3003\n",
    "\n",
    "### Input format :\n",
    "Integer N (Total no. of rows)\n",
    "\n",
    "### Output format :\n",
    "Pattern in N lines\n",
    "\n",
    "### Sample Input :\n",
    "5\n",
    "\n",
    "### Sample Output :\n",
    "\n",
    "1\n",
    "\n",
    "11\n",
    "\n",
    "202\n",
    "\n",
    "3003\n",
    "\n",
    "40004"
   ]
  },
  {
   "cell_type": "code",
   "execution_count": 1,
   "metadata": {},
   "outputs": [
    {
     "name": "stdout",
     "output_type": "stream",
     "text": [
      "4\n",
      "1\n",
      "11\n",
      "202\n",
      "3003\n"
     ]
    }
   ],
   "source": [
    "## Read input as specified in the question.\n",
    "## Print output as specified in the question.\n",
    "n = int(input())\n",
    "i=1\n",
    "\n",
    "while i <= n:\n",
    "    j=1\n",
    "    while j <= i:\n",
    "        if i == 1:                                                                                         \n",
    "            print(1,end ='')\n",
    "        \n",
    "        elif j == 1 or j == i:\n",
    "            print(i-1,end ='')\n",
    "            \n",
    "        else:\n",
    "            print(0,end='')\n",
    "            \n",
    "        j=j+1\n",
    "    print()\n",
    "    i=i+1"
   ]
  }
 ],
 "metadata": {
  "kernelspec": {
   "display_name": "Python 3",
   "language": "python",
   "name": "python3"
  },
  "language_info": {
   "codemirror_mode": {
    "name": "ipython",
    "version": 3
   },
   "file_extension": ".py",
   "mimetype": "text/x-python",
   "name": "python",
   "nbconvert_exporter": "python",
   "pygments_lexer": "ipython3",
   "version": "3.7.3"
  }
 },
 "nbformat": 4,
 "nbformat_minor": 2
}
