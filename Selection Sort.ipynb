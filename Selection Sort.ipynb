{
 "cells": [
  {
   "cell_type": "code",
   "execution_count": 3,
   "metadata": {},
   "outputs": [
    {
     "name": "stdout",
     "output_type": "stream",
     "text": [
      "7\n",
      "13 5 2 7 44 9 2\n",
      "2 5 7 9 13 44 2 "
     ]
    }
   ],
   "source": [
    "def selectionSort(ar):\n",
    "    l = len(ar)\n",
    "    \n",
    "    for i in range(l-1):\n",
    "        min = i\n",
    "        for j in range(i+1, l-1):\n",
    "            if ar[j] < ar[min]:\n",
    "                min = j\n",
    "        ar[i], ar[min] = ar[min], ar[i]\n",
    "        \n",
    "    for i in ar:\n",
    "        print(i, end =' ')\n",
    "    \n",
    "    \n",
    "    \n",
    "\n",
    "n = int(input())\n",
    "ar = [int(x) for x in input().split()[:n]]\n",
    "\n",
    "selectionSort(ar)"
   ]
  }
 ],
 "metadata": {
  "kernelspec": {
   "display_name": "Python 3",
   "language": "python",
   "name": "python3"
  },
  "language_info": {
   "codemirror_mode": {
    "name": "ipython",
    "version": 3
   },
   "file_extension": ".py",
   "mimetype": "text/x-python",
   "name": "python",
   "nbconvert_exporter": "python",
   "pygments_lexer": "ipython3",
   "version": "3.7.3"
  }
 },
 "nbformat": 4,
 "nbformat_minor": 2
}
