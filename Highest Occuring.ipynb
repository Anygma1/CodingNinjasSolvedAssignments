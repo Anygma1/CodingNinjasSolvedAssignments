{
 "cells": [
  {
   "cell_type": "markdown",
   "metadata": {},
   "source": [
    "## Highest Occuring Character:\n",
    "Given a string, find and return the highest occurring character present in the given string.\n",
    "If there are 2 characters in the input string with same frequency, return the character which comes first.\n",
    "\n",
    "Note : Assume all the characters in the given string are lowercase.\n",
    "\n",
    "### Sample Input 1:\n",
    "abdefgbabfba\n",
    "\n",
    "### Sample Output 1:\n",
    "b\n",
    "\n",
    "### Sample Input 2:\n",
    "xy\n",
    "\n",
    "### Sample Output 2:\n",
    "x"
   ]
  },
  {
   "cell_type": "code",
   "execution_count": 4,
   "metadata": {},
   "outputs": [
    {
     "name": "stdout",
     "output_type": "stream",
     "text": [
      "abcdefgbababaa\n",
      "a\n"
     ]
    }
   ],
   "source": [
    "ASCII_SIZE = 256 \n",
    "def highestOccuring(s):\n",
    "\tcount = [0] * ASCII_SIZE \n",
    "\tmax = -1\n",
    "\tc = '' \n",
    "\n",
    "\tfor i in s: \n",
    "\t\tcount[ord(i)]+=1; \n",
    "\n",
    "\tfor i in s: \n",
    "\t\tif max < count[ord(i)]: \n",
    "\t\t\tmax = count[ord(i)] \n",
    "\t\t\tc = i \n",
    "\n",
    "\treturn c\n",
    "\n",
    "s = input()\n",
    "print(highestOccuring(s))"
   ]
  }
 ],
 "metadata": {
  "kernelspec": {
   "display_name": "Python 3",
   "language": "python",
   "name": "python3"
  },
  "language_info": {
   "codemirror_mode": {
    "name": "ipython",
    "version": 3
   },
   "file_extension": ".py",
   "mimetype": "text/x-python",
   "name": "python",
   "nbconvert_exporter": "python",
   "pygments_lexer": "ipython3",
   "version": "3.7.3"
  }
 },
 "nbformat": 4,
 "nbformat_minor": 2
}
