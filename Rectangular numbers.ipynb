{
 "cells": [
  {
   "cell_type": "code",
   "execution_count": 1,
   "metadata": {},
   "outputs": [
    {
     "name": "stdout",
     "output_type": "stream",
     "text": [
      "5\n",
      "555555555\n",
      "544444445\n",
      "543333345\n",
      "543222345\n",
      "543212345\n",
      "543222345\n",
      "543333345\n",
      "544444445\n",
      "555555555\n"
     ]
    }
   ],
   "source": [
    "n = int(input())\n",
    "\n",
    "for i in range(1, n+1, 1):\n",
    "    for up in range(1, i, 1):\n",
    "        print(n-up+1,end = '')\n",
    "        \n",
    "    for j in range(i, 2*n-i+1, 1):\n",
    "        print(n-i+1,end = '')\n",
    "    \n",
    "    for lp in range(2*n-i, 2*n-1, 1):\n",
    "        print(lp-n+2,end = '')\n",
    "    \n",
    "    print()\n",
    "\n",
    "\n",
    "for i in range(n-1, 0, -1):\n",
    "    for up in range(1, i, 1):\n",
    "        print(n-up+1,end = '')\n",
    "        \n",
    "    for j in range(i, 2*n-i+1, 1):\n",
    "        print(n-i+1,end = '')\n",
    "    \n",
    "    for lp in range(2*n-i, 2*n-1, 1):\n",
    "        print(lp-n+2,end = '')\n",
    "    \n",
    "        \n",
    "    print()\n",
    "\n",
    "    "
   ]
  }
 ],
 "metadata": {
  "kernelspec": {
   "display_name": "Python 3",
   "language": "python",
   "name": "python3"
  },
  "language_info": {
   "codemirror_mode": {
    "name": "ipython",
    "version": 3
   },
   "file_extension": ".py",
   "mimetype": "text/x-python",
   "name": "python",
   "nbconvert_exporter": "python",
   "pygments_lexer": "ipython3",
   "version": "3.7.3"
  }
 },
 "nbformat": 4,
 "nbformat_minor": 2
}
