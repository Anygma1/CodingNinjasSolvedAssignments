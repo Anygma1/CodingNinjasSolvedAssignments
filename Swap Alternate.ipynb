{
 "cells": [
  {
   "cell_type": "markdown",
   "metadata": {},
   "source": [
    "## Swap Alternate:\n",
    "Given an array of length N, swap every pair of alternate elements in the array.\n",
    "You don't need to print or return anything, just change in the input array itself.\n",
    "\n",
    "### Input Format :\n",
    "\n",
    "Line 1 : An Integer N i.e. size of array\n",
    "\n",
    "Line 2 : N integers which are elements of the array, separated by spaces\n",
    "\n",
    "### Output Format :\n",
    "Elements after swapping, separated by space.\n",
    "\n",
    "### Sample Input 1:\n",
    "\n",
    "6\n",
    "\n",
    "9 3 6 12 4 32\n",
    "\n",
    "### Sample Output 2 :\n",
    "\n",
    "3 9 12 6 32 4\n",
    "\n",
    "### Sample Input 1:\n",
    "\n",
    "9\n",
    "\n",
    "9 3 6 12 4 32 5 11 19\n",
    "\n",
    "### Sample Output 2 :\n",
    "\n",
    "3 9 12 6 32 4 11 5 19"
   ]
  },
  {
   "cell_type": "code",
   "execution_count": 35,
   "metadata": {},
   "outputs": [
    {
     "name": "stdout",
     "output_type": "stream",
     "text": [
      "5\n",
      "1 3 4 5 4\n",
      "3 1 5 4 4 "
     ]
    }
   ],
   "source": [
    "def rev(li):\n",
    "    l = len(li)\n",
    "    if l%2 == 0:\n",
    "        for i in range(0,l,2):\n",
    "            li[i],li[i+1] = li[i+1],li[i]\n",
    "    else:\n",
    "        for i in range(0,l-1,2):\n",
    "            li[i],li[i+1] = li[i+1],li[i]\n",
    "    for i in li:\n",
    "        print(i,end =' ')\n",
    "n = int(input())\n",
    "li = [int(x) for x in input().split()[:n]]\n",
    "rev(li)\n",
    "\n"
   ]
  }
 ],
 "metadata": {
  "kernelspec": {
   "display_name": "Python 3",
   "language": "python",
   "name": "python3"
  },
  "language_info": {
   "codemirror_mode": {
    "name": "ipython",
    "version": 3
   },
   "file_extension": ".py",
   "mimetype": "text/x-python",
   "name": "python",
   "nbconvert_exporter": "python",
   "pygments_lexer": "ipython3",
   "version": "3.7.3"
  }
 },
 "nbformat": 4,
 "nbformat_minor": 2
}
