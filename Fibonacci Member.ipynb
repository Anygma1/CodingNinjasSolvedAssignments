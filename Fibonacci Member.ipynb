{
 "cells": [
  {
   "cell_type": "markdown",
   "metadata": {},
   "source": [
    "## Fibonacci Member:\n",
    "Given a number N, figure out if it is a member of fibonacci series or not. Return true if the number is member of fibonacci series else false.\n",
    "Fibonacci Series is defined by the recurrence\n",
    "    F(n) = F(n-1) + F(n-2)\n",
    "\n",
    "### Input Format :\n",
    "\n",
    "Integer N\n",
    "\n",
    "### Output Format :\n",
    "\n",
    "true or false\n",
    "\n",
    "### Sample Input 1 :\n",
    "\n",
    "5\n",
    "\n",
    "### Sample Output 1 :\n",
    "\n",
    "true\n",
    "\n",
    "### Sample Input 2 :\n",
    "\n",
    "14\n",
    "\n",
    "### Sample Output 2 :\n",
    "false"
   ]
  },
  {
   "cell_type": "code",
   "execution_count": null,
   "metadata": {},
   "outputs": [],
   "source": [
    "def checkMember(n):\n",
    "    a = 0\n",
    "    b = 1\n",
    "    while a < n:\n",
    "        c = a + b\n",
    "        a = b\n",
    "        b = c\n",
    "    if a == n:\n",
    "        return True\n",
    "    else:\n",
    "        return False\n",
    "        \n",
    "n=int(input())\n",
    "if(checkMember(n)):\n",
    "    print(\"true\")\n",
    "else:\n",
    "    print(\"false\")"
   ]
  }
 ],
 "metadata": {
  "kernelspec": {
   "display_name": "Python 3",
   "language": "python",
   "name": "python3"
  },
  "language_info": {
   "codemirror_mode": {
    "name": "ipython",
    "version": 3
   },
   "file_extension": ".py",
   "mimetype": "text/x-python",
   "name": "python",
   "nbconvert_exporter": "python",
   "pygments_lexer": "ipython3",
   "version": "3.7.3"
  }
 },
 "nbformat": 4,
 "nbformat_minor": 2
}
