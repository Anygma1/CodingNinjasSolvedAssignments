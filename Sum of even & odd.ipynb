{
 "cells": [
  {
   "cell_type": "markdown",
   "metadata": {},
   "source": [
    "## Sum of even & odd:\n",
    "Write a program to input an integer N and print the sum of all its even digits and sum of all its odd digits separately.\n",
    "Digits means numbers not the places. That is, if the given integer is \"13245\", even digits are 2 & 4 and odd digits are 1, 3 & 5.\n",
    "\n",
    "### Input format :\n",
    " Integer N\n",
    "\n",
    "### Output format :\n",
    "Sum_of_Even_Digits Sum_of_Odd_Digits\n",
    "(Print first even sum and then odd sum separated by space)\n",
    "\n",
    "### Sample Input :\n",
    "1234\n",
    "\n",
    "### Sample Output :\n",
    "6 4"
   ]
  },
  {
   "cell_type": "code",
   "execution_count": null,
   "metadata": {},
   "outputs": [],
   "source": [
    "\n",
    "n = int(input())\n",
    "even = 0\n",
    "odd = 0\n",
    "rn = 0   \n",
    "\n",
    "while(n > 0):    \n",
    "    r = n %10   \n",
    "    \n",
    "    if r%2 == 0:\n",
    "        even = even + r\n",
    "    \n",
    "    else:\n",
    "        odd = odd + r\n",
    "        \n",
    "    rn = (rn *10) + r    \n",
    "    n = n //10    \n",
    "\n",
    "print(even,\" \",odd)"
   ]
  }
 ],
 "metadata": {
  "kernelspec": {
   "display_name": "Python 3",
   "language": "python",
   "name": "python3"
  },
  "language_info": {
   "codemirror_mode": {
    "name": "ipython",
    "version": 3
   },
   "file_extension": ".py",
   "mimetype": "text/x-python",
   "name": "python",
   "nbconvert_exporter": "python",
   "pygments_lexer": "ipython3",
   "version": "3.7.3"
  }
 },
 "nbformat": 4,
 "nbformat_minor": 2
}
