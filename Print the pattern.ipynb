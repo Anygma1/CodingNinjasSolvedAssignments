{
 "cells": [
  {
   "cell_type": "code",
   "execution_count": 1,
   "metadata": {},
   "outputs": [
    {
     "name": "stdout",
     "output_type": "stream",
     "text": [
      "5\n",
      "1 2 3 4 5 \n",
      "11 12 13 14 15 \n",
      "21 22 23 24 25 \n",
      "16 17 18 19 20 \n",
      "6 7 8 9 10 \n"
     ]
    }
   ],
   "source": [
    "n = int(input())\n",
    "\n",
    "if n%2 == 0:\n",
    "    m = n//2\n",
    "else:\n",
    "    m = n//2+1\n",
    "    \n",
    "for i in range(1, m+1, 1):\n",
    "    for j in range(1, n+1, 1):\n",
    "        print(2*n*(i-1)+j, end ='')\n",
    "        print(' ',end = '') \n",
    "    print()\n",
    "    \n",
    "r = n - m\n",
    "for i in range(r, 0, -1):\n",
    "    for j in range(1, n+1, 1):\n",
    "        print((2*i-1)*n + j, end ='')\n",
    "        print(' ', end ='')\n",
    "    print()"
   ]
  }
 ],
 "metadata": {
  "kernelspec": {
   "display_name": "Python 3",
   "language": "python",
   "name": "python3"
  },
  "language_info": {
   "codemirror_mode": {
    "name": "ipython",
    "version": 3
   },
   "file_extension": ".py",
   "mimetype": "text/x-python",
   "name": "python",
   "nbconvert_exporter": "python",
   "pygments_lexer": "ipython3",
   "version": "3.7.3"
  }
 },
 "nbformat": 4,
 "nbformat_minor": 2
}
