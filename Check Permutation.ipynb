{
 "cells": [
  {
   "cell_type": "markdown",
   "metadata": {},
   "source": [
    "## Check Permutation:\n",
    "Given two strings, check if they are permutations of each other. Return true or false.\n",
    "Permutation means - length of both the strings should same and should contain same set of characters. Order of characters doesn't matter.\n",
    "\n",
    "### Note : Input strings contain only lowercase english alphabets.\n",
    "\n",
    "### Input format :\n",
    "\n",
    "Line 1 : String 1\n",
    "\n",
    "Line 2 : String 2\n",
    "\n",
    "### Sample Input 1 :\n",
    "\n",
    "abcde\n",
    "\n",
    "baedc\n",
    "\n",
    "### Sample Output 1 :\n",
    "\n",
    "true\n",
    "\n",
    "### Sample Input 2 :\n",
    "\n",
    "abc\n",
    "\n",
    "cbd\n",
    "\n",
    "### Sample Output 2 :\n",
    "false"
   ]
  },
  {
   "cell_type": "code",
   "execution_count": 6,
   "metadata": {},
   "outputs": [
    {
     "name": "stdout",
     "output_type": "stream",
     "text": [
      "bdc\n",
      "abg\n",
      "false\n"
     ]
    }
   ],
   "source": [
    "def checkPermutation(a, b):\n",
    "    li_1 = sorted(a)\n",
    "    li_2 = sorted(b)\n",
    "    \n",
    "    size = len(li_1)\n",
    "    \n",
    "    for i in range(size):\n",
    "        if li_1[i] != li_2[i]:\n",
    "            print('false')\n",
    "            break\n",
    "            \n",
    "    else:\n",
    "        print('true')\n",
    "        \n",
    "a = input()\n",
    "b = input()\n",
    "\n",
    "checkPermutation(a, b)\n"
   ]
  }
 ],
 "metadata": {
  "kernelspec": {
   "display_name": "Python 3",
   "language": "python",
   "name": "python3"
  },
  "language_info": {
   "codemirror_mode": {
    "name": "ipython",
    "version": 3
   },
   "file_extension": ".py",
   "mimetype": "text/x-python",
   "name": "python",
   "nbconvert_exporter": "python",
   "pygments_lexer": "ipython3",
   "version": "3.7.3"
  }
 },
 "nbformat": 4,
 "nbformat_minor": 2
}
