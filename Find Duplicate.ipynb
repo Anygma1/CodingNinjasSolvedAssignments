{
 "cells": [
  {
   "cell_type": "markdown",
   "metadata": {},
   "source": [
    "## Find duplicate:\n",
    "Given an array of integers of size n which contains numbers from 0 to n - 2. Each number is present at least once. That is, if n = 5, numbers from 0 to 3 is present in the given array at least once and one number is present twice. You need to find and return that duplicate number present in the array.\n",
    "Assume, duplicate number is always present in the array.\n",
    "\n",
    "### Input format :\n",
    "\n",
    "Line 1 : Size of input array\n",
    "\n",
    "Line 2 : Array elements (separated by space)\n",
    "\n",
    "### Output Format :\n",
    "\n",
    "Duplicate element\n",
    "\n",
    "### Constraints :\n",
    "\n",
    "1 <= n <= 10^3\n",
    "\n",
    "### Sample Input:\n",
    "\n",
    "9\n",
    "\n",
    "0 7 2 5 4 7 1 3 6\n",
    "\n",
    "### Sample Output:\n",
    "7"
   ]
  },
  {
   "cell_type": "code",
   "execution_count": 27,
   "metadata": {},
   "outputs": [
    {
     "name": "stdout",
     "output_type": "stream",
     "text": [
      "9\n",
      "0 7 2 5 4 7 1 3 6\n",
      "7\n"
     ]
    }
   ],
   "source": [
    "def rev(li, n):\n",
    "    sum = 0\n",
    "    sum1 = 0\n",
    "    \n",
    "    for i in range(n):\n",
    "        sum = sum + i\n",
    "        \n",
    "    for i in range(len(li)):\n",
    "        sum1 = sum1 + li[i]\n",
    "        \n",
    "    res = sum - sum1\n",
    "    return n - 1 -res\n",
    "n = int(input())\n",
    "li = [int(x) for x in input().split()[:n]]\n",
    "\n",
    "print(rev(li, n))\n",
    "\n"
   ]
  }
 ],
 "metadata": {
  "kernelspec": {
   "display_name": "Python 3",
   "language": "python",
   "name": "python3"
  },
  "language_info": {
   "codemirror_mode": {
    "name": "ipython",
    "version": 3
   },
   "file_extension": ".py",
   "mimetype": "text/x-python",
   "name": "python",
   "nbconvert_exporter": "python",
   "pygments_lexer": "ipython3",
   "version": "3.7.3"
  }
 },
 "nbformat": 4,
 "nbformat_minor": 2
}
