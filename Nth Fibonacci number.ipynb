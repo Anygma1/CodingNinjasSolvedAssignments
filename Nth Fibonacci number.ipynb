{
 "cells": [
  {
   "cell_type": "markdown",
   "metadata": {},
   "source": [
    "## Nth Fibonacci number:\n",
    "Nth term of fibonacci series F(n) is calculated using following formula -\n",
    "    F(n) = F(n-1) + F(n-2), \n",
    "Provided N you have to find out the Nth Fibonacci Number. Also F(1) = F(2) = 1.\n",
    "\n",
    "### Input Format :\n",
    "Integer n\n",
    "\n",
    "### Constraints:\n",
    "Time Limit: 1 second\n",
    "\n",
    "### Output Format :\n",
    "Nth Fibonacci term i.e. F(n)\n",
    "\n",
    "### Sample Input :\n",
    "4\n",
    "\n",
    "### Sample Output :\n",
    "3 "
   ]
  },
  {
   "cell_type": "code",
   "execution_count": null,
   "metadata": {},
   "outputs": [],
   "source": [
    "def fib(n): \n",
    "\tif n==1 or n==2: \n",
    "\t\treturn 1\n",
    "\t\n",
    "\telse: \n",
    "\t\treturn fib(n-1)+fib(n-2) \n",
    "\n",
    "n = int(input())\n",
    "print(fib(n)) \n",
    "\n"
   ]
  }
 ],
 "metadata": {
  "kernelspec": {
   "display_name": "Python 3",
   "language": "python",
   "name": "python3"
  },
  "language_info": {
   "codemirror_mode": {
    "name": "ipython",
    "version": 3
   },
   "file_extension": ".py",
   "mimetype": "text/x-python",
   "name": "python",
   "nbconvert_exporter": "python",
   "pygments_lexer": "ipython3",
   "version": "3.7.3"
  }
 },
 "nbformat": 4,
 "nbformat_minor": 2
}
