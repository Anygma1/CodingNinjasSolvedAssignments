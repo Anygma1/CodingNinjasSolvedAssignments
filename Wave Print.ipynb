{
 "cells": [
  {
   "cell_type": "markdown",
   "metadata": {},
   "source": [
    "## Wave Print:\n",
    "Given a two dimensional n*m array, print the array in a sine wave order. i.e. print the first column top to bottom, next column bottom to top and so on.\n",
    "\n",
    "Note : Print the elements separated by space.\n",
    "\n",
    "### Input format :\n",
    "n, m, array elements (separated by space)\n",
    "\n",
    "### Sample Input :\n",
    "3 4 1  2  3  4 5  6  7  8 9 10 11 12\n",
    "\n",
    "### Sample Output :\n",
    "1 5 9 10 6 2 3 7 11 12 8 4"
   ]
  },
  {
   "cell_type": "code",
   "execution_count": 17,
   "metadata": {},
   "outputs": [
    {
     "name": "stdout",
     "output_type": "stream",
     "text": [
      "3 4 1 2 3 4 5 6 7 8 9 10 11 12\n",
      "1 5 9 10 6 2 3 7 11 12 8 4 "
     ]
    }
   ],
   "source": [
    "def wavePrint(arr):\n",
    "    bFlag = 1\n",
    "    n = len(arr)\n",
    "    m = len(arr[0])\n",
    "    j = 0\n",
    "    \n",
    "    while j < m:\n",
    "        if bFlag == 1:\n",
    "            for i in range(n):\n",
    "                print(arr[i][j],end =' ')\n",
    "            bFlag = 0\n",
    "            j+=1\n",
    "            \n",
    "        else:\n",
    "            for i in range(n-1, -1, -1):\n",
    "                print(arr[i][j], end =' ')\n",
    "            bFlag = 1\n",
    "            j+=1\n",
    "\n",
    "#Main\n",
    "l=[int(i) for i in input().strip().split(' ')]\n",
    "m, n=l[0], l[1]\n",
    "arr = [ [ l[(j*n)+i+2] for i in range(n)] for j in range(m)]\n",
    "wavePrint(arr)\n"
   ]
  },
  {
   "cell_type": "code",
   "execution_count": null,
   "metadata": {},
   "outputs": [],
   "source": []
  }
 ],
 "metadata": {
  "kernelspec": {
   "display_name": "Python 3",
   "language": "python",
   "name": "python3"
  },
  "language_info": {
   "codemirror_mode": {
    "name": "ipython",
    "version": 3
   },
   "file_extension": ".py",
   "mimetype": "text/x-python",
   "name": "python",
   "nbconvert_exporter": "python",
   "pygments_lexer": "ipython3",
   "version": "3.7.3"
  }
 },
 "nbformat": 4,
 "nbformat_minor": 2
}
