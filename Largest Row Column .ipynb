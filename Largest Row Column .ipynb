{
 "cells": [
  {
   "cell_type": "code",
   "execution_count": 3,
   "metadata": {},
   "outputs": [
    {
     "name": "stdout",
     "output_type": "stream",
     "text": [
      "4 2 \n",
      "1 2 3 4 5 6 7 8\n",
      "column 1 20 "
     ]
    }
   ],
   "source": [
    "def largetRowSumAndIndex(li):\n",
    "    n = len(li)\n",
    "    m = len(li[0])\n",
    "    \n",
    "    max_sum = -1\n",
    "    max_index = -1\n",
    "    \n",
    "    for i in range(n):\n",
    "        sum = 0\n",
    "        for j in range(m):\n",
    "            sum += li[i][j]\n",
    "            \n",
    "        if sum > max_sum:\n",
    "            max_index = i\n",
    "            max_sum = sum\n",
    "            \n",
    "        elif sum == max_sum:\n",
    "            if max_index > i:\n",
    "                max_index = i\n",
    "                max_sum = sum\n",
    "            \n",
    "    return max_index,max_sum\n",
    "\n",
    "\n",
    "def largetColSumAndIndex(li):\n",
    "    n = len(li)\n",
    "    m = len(li[0])\n",
    "    \n",
    "    max_sum = -1\n",
    "    max_index = -1\n",
    "    \n",
    "    for j in range(m):\n",
    "        sum = 0\n",
    "        for i in range(n):\n",
    "            sum += li[i][j]\n",
    "            \n",
    "        if sum > max_sum:\n",
    "            max_index = j\n",
    "            max_sum = sum\n",
    "            \n",
    "    return max_index, max_sum\n",
    "\n",
    "m, n=(int(i) for i in input().strip().split(' '))\n",
    "l=[int(i) for i in input().strip().split(' ')]\n",
    "arr = [ [ l[(j*n)+i] for i in range(n)] for j in range(m)]\n",
    "row = largetRowSumAndIndex(arr)\n",
    "col = largetColSumAndIndex(arr)\n",
    "\n",
    "if row[1] > col[1]:\n",
    "    print('row',end =' ')\n",
    "    print(row[0],end =' ')\n",
    "    print(row[1],end =' ')\n",
    "    \n",
    "        \n",
    "elif col[1] > row[1]:\n",
    "    print('column',end =' ')\n",
    "    print(col[0],end =' ')\n",
    "    print(col[1],end =' ')\n",
    "        \n",
    "else:\n",
    "    print('row',end =' ')\n",
    "    print(row[0],end =' ')\n",
    "    print(row[1],end =' ')\n",
    "    \n",
    "    \n"
   ]
  }
 ],
 "metadata": {
  "kernelspec": {
   "display_name": "Python 3",
   "language": "python",
   "name": "python3"
  },
  "language_info": {
   "codemirror_mode": {
    "name": "ipython",
    "version": 3
   },
   "file_extension": ".py",
   "mimetype": "text/x-python",
   "name": "python",
   "nbconvert_exporter": "python",
   "pygments_lexer": "ipython3",
   "version": "3.7.3"
  }
 },
 "nbformat": 4,
 "nbformat_minor": 2
}
