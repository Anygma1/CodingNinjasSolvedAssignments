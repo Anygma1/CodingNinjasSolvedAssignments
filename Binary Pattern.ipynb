{
 "cells": [
  {
   "cell_type": "markdown",
   "metadata": {},
   "source": [
    "## Binary Pattern:\n",
    "Print the following pattern for the given number of rows.\n",
    "\n",
    "Pattern for N = 4\n",
    "\n",
    "1111\n",
    "\n",
    "000\n",
    "\n",
    "11\n",
    "\n",
    "0\n",
    "\n",
    "### Input format : N (Total no. of rows)\n",
    "\n",
    "### Output format : Pattern in N lines\n",
    "\n",
    "### Sample Input :\n",
    "\n",
    "5\n",
    "\n",
    "### Sample Output :\n",
    "\n",
    "11111\n",
    "\n",
    "0000\n",
    "\n",
    "111\n",
    "\n",
    "00\n",
    "\n",
    "1"
   ]
  },
  {
   "cell_type": "code",
   "execution_count": 1,
   "metadata": {},
   "outputs": [
    {
     "name": "stdout",
     "output_type": "stream",
     "text": [
      "5\n",
      "11111\n",
      "0000\n",
      "111\n",
      "00\n",
      "1\n"
     ]
    }
   ],
   "source": [
    "## Read input as specified in the question.\n",
    "## Print output as specified in the question.\n",
    "n = int(input())\n",
    "\n",
    "for i in range(1, n+1, 1):\n",
    "    \n",
    "    for j in range(1, n-i+2, 1):        \n",
    "        if(i%2 != 0):\n",
    "            print('1', end ='')\n",
    "            \n",
    "        else:\n",
    "            print('0', end ='')\n",
    "    \n",
    "    print()\n",
    "    \n",
    " "
   ]
  }
 ],
 "metadata": {
  "kernelspec": {
   "display_name": "Python 3",
   "language": "python",
   "name": "python3"
  },
  "language_info": {
   "codemirror_mode": {
    "name": "ipython",
    "version": 3
   },
   "file_extension": ".py",
   "mimetype": "text/x-python",
   "name": "python",
   "nbconvert_exporter": "python",
   "pygments_lexer": "ipython3",
   "version": "3.7.3"
  }
 },
 "nbformat": 4,
 "nbformat_minor": 2
}
