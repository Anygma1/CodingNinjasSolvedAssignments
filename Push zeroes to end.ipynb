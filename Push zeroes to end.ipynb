{
 "cells": [
  {
   "cell_type": "markdown",
   "metadata": {},
   "source": [
    "## Push Zeros to end:\n",
    "Given a random integer array, push all the zeros that are present to end of the array. The respective order of other elements should remain same.\n",
    "Change in the input array itself. You don't need to return or print elements. Don't use extra array.\n",
    "\n",
    "### Note : You need to do this in one scan of array only.\n",
    "\n",
    "### Input format :\n",
    "Line 1 : Integer N, Array Size\n",
    "Line 2 : Array elements (separated by space)\n",
    "\n",
    "### Output Format :\n",
    "Array elements (separated by space)\n",
    "\n",
    "### Constraints :\n",
    "1 <= N <= 10^6\n",
    "\n",
    "### Sample Input 1:\n",
    "7\n",
    "2 0 4 1 3 0 28\n",
    "\n",
    "### Sample Output 1:\n",
    "2 4 1 3 28 0 0\n",
    "\n",
    "### Sample Input 2:\n",
    "5\n",
    "0 3 0 2 0\n",
    "\n",
    "### Sample Output 2:\n",
    "3 2 0 0 0"
   ]
  },
  {
   "cell_type": "code",
   "execution_count": 5,
   "metadata": {},
   "outputs": [
    {
     "name": "stdout",
     "output_type": "stream",
     "text": [
      "7\n",
      "2 4 0 7 8 0 9\n",
      "2 4 7 8 9 0 0 "
     ]
    }
   ],
   "source": [
    "def pushToEnd(ar):\n",
    "    res = []\n",
    "    for i in range(len(ar)):\n",
    "        if ar[i] != 0:\n",
    "            res.append(ar[i])\n",
    "            \n",
    "    val = len(ar) - len(res)\n",
    "    for i in range(val):\n",
    "        res.append(0)\n",
    "        \n",
    "    for ele in res:\n",
    "        print(ele, end =' ')\n",
    "    \n",
    "n = int(input())\n",
    "ar = [int(x) for x in input().split()[:n]]\n",
    "\n",
    "pushToEnd(ar)\n",
    "\n"
   ]
  }
 ],
 "metadata": {
  "kernelspec": {
   "display_name": "Python 3",
   "language": "python",
   "name": "python3"
  },
  "language_info": {
   "codemirror_mode": {
    "name": "ipython",
    "version": 3
   },
   "file_extension": ".py",
   "mimetype": "text/x-python",
   "name": "python",
   "nbconvert_exporter": "python",
   "pygments_lexer": "ipython3",
   "version": "3.7.3"
  }
 },
 "nbformat": 4,
 "nbformat_minor": 2
}
