{
 "cells": [
  {
   "cell_type": "markdown",
   "metadata": {},
   "source": [
    "## Triplet Sum:\n",
    "Given a random integer array and a number x. Find and print the triplets of elements in the array which sum to x.\n",
    "While printing a triplet, print the smallest element first.\n",
    "That is, if a valid triplet is (6, 5, 10) print \"5 6 10\". There is no constraint that out of 5 triplets which have to be printed on 1st line. You can print triplets in any order, just be careful about the order of elements in a triplet.\n",
    "\n",
    "### Input format :\n",
    "\n",
    "Line 1 : Integer N (Array Size)\n",
    "\n",
    "Line 2 : Array elements (separated by space)\n",
    "\n",
    "Line 3 : Integer x\n",
    "\n",
    "### Output format :\n",
    "\n",
    "Line 1 : Triplet 1 elements (separated by space)\n",
    "\n",
    "Line 2 : Triplet 3 elements (separated by space)\n",
    "\n",
    "Line 3 : and so on\n",
    "\n",
    "### Constraints :\n",
    "\n",
    "1 <= N <= 1000\n",
    "\n",
    "1 <= x <= 100\n",
    "\n",
    "### Sample Input:\n",
    "\n",
    "7\n",
    "\n",
    "1 2 3 4 5 6 7 \n",
    "\n",
    "12\n",
    "\n",
    "### Sample Output ;\n",
    "\n",
    "1 4 7\n",
    "\n",
    "1 5 6\n",
    "\n",
    "2 3 7\n",
    "\n",
    "2 4 6\n",
    "\n",
    "3 4 5"
   ]
  },
  {
   "cell_type": "code",
   "execution_count": 29,
   "metadata": {},
   "outputs": [
    {
     "name": "stdout",
     "output_type": "stream",
     "text": [
      "7\n",
      "1 2 3 4 5 6 7\n",
      "12\n",
      "1 4 7 \n",
      "1 5 6 \n",
      "2 3 7 \n",
      "2 4 6 \n",
      "3 4 5 \n"
     ]
    }
   ],
   "source": [
    "def pairSum(ar, n, x):\n",
    "    for i in range(0, n-2):\n",
    "        for j in range(i+1,n-1):\n",
    "            for k in range(j+1,n):\n",
    "                if ar[i]+ar[j]+ar[k] == x:\n",
    "                    printArray(ar[i], ar[j], ar[k])\n",
    "                    \n",
    "def printArray(a, b ,c):\n",
    "    res = []\n",
    "    res.append(a)\n",
    "    res.append(b)\n",
    "    res.append(c)\n",
    "    res.sort()\n",
    "    for ele in res:\n",
    "        print(ele, end = ' ')\n",
    "    print()\n",
    "                    \n",
    "           \n",
    "        \n",
    "\n",
    "n = int(input())\n",
    "ar = [int(x) for x in input().split()[:n]]\n",
    "x = int(input())\n",
    "\n",
    "pairSum(ar, n, x)\n"
   ]
  }
 ],
 "metadata": {
  "kernelspec": {
   "display_name": "Python 3",
   "language": "python",
   "name": "python3"
  },
  "language_info": {
   "codemirror_mode": {
    "name": "ipython",
    "version": 3
   },
   "file_extension": ".py",
   "mimetype": "text/x-python",
   "name": "python",
   "nbconvert_exporter": "python",
   "pygments_lexer": "ipython3",
   "version": "3.7.3"
  }
 },
 "nbformat": 4,
 "nbformat_minor": 2
}
