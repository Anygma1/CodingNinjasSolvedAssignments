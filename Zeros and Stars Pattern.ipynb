{
 "cells": [
  {
   "cell_type": "markdown",
   "metadata": {},
   "source": [
    "## Zeros and Stars Pattern:\n",
    "Print the following pattern\n",
    "\n",
    "Pattern for N = 4\n",
    "\n",
    "*000*000*\n",
    "0*00*00*0\n",
    "00*0*0*00\n",
    "000***000\n",
    "\n",
    "### Input Format :\n",
    "\n",
    "N (Total no. of rows)\n",
    "\n",
    "### Output Format :\n",
    "\n",
    "Pattern in N lines\n",
    "\n",
    "### Sample Input 1 :\n",
    "\n",
    "3\n",
    "\n",
    "### Sample Output 1 :\n",
    "*00*00*\n",
    "0*0*0*0\n",
    "00***00\n"
   ]
  },
  {
   "cell_type": "code",
   "execution_count": 1,
   "metadata": {},
   "outputs": [
    {
     "name": "stdout",
     "output_type": "stream",
     "text": [
      "4\n",
      "*000*000*\n",
      "0*00*00*0\n",
      "00*0*0*00\n",
      "000***000\n"
     ]
    }
   ],
   "source": [
    "## Read input as specified in the question.\n",
    "## Print output as specified in the question.\n",
    "n = int(input())\n",
    "rows = 2*n + 1\n",
    "i = 1\n",
    "\n",
    "while i <= n:\n",
    "    j = 1\n",
    "    while j <= rows:\n",
    "        if(j == i or j == (rows // 2 + 1) or j == rows - i +1):\n",
    "            print('*',end = '')\n",
    "            \n",
    "        else:\n",
    "            print('0',end = '')\n",
    "\n",
    "        j = j + 1\n",
    "        \n",
    "    print()\n",
    "    i = i + 1"
   ]
  }
 ],
 "metadata": {
  "kernelspec": {
   "display_name": "Python 3",
   "language": "python",
   "name": "python3"
  },
  "language_info": {
   "codemirror_mode": {
    "name": "ipython",
    "version": 3
   },
   "file_extension": ".py",
   "mimetype": "text/x-python",
   "name": "python",
   "nbconvert_exporter": "python",
   "pygments_lexer": "ipython3",
   "version": "3.7.3"
  }
 },
 "nbformat": 4,
 "nbformat_minor": 2
}
