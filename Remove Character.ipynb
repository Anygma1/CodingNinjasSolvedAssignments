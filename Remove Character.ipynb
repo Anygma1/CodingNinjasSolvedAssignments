{
 "cells": [
  {
   "cell_type": "markdown",
   "metadata": {},
   "source": [
    "## Remove character:\n",
    "Given a string and a character x. Write a function to remove all occurrences of x character from the given string.\n",
    "Leave the string as it is, if the given character is not present in the string.\n",
    "\n",
    "### Input format :\n",
    "\n",
    "Line 1 : Input string\n",
    "\n",
    "Line 2 : Character x\n",
    "\n",
    "### Sample Input :\n",
    "welcome to coding ninjas\n",
    "o\n",
    "\n",
    "### Sample Output :\n",
    "welcme t cding ninjas"
   ]
  },
  {
   "cell_type": "code",
   "execution_count": 8,
   "metadata": {},
   "outputs": [
    {
     "name": "stdout",
     "output_type": "stream",
     "text": [
      "welcome to coding ninjas\n",
      "o\n",
      "welcme t cding ninjas\n"
     ]
    }
   ],
   "source": [
    "def removeCharacter(s, ch):\n",
    "    res = s.replace(ch,'')\n",
    "    print(res)\n",
    "\n",
    "s = input()\n",
    "ch = input()\n",
    "\n",
    "removeCharacter(s, ch)"
   ]
  }
 ],
 "metadata": {
  "kernelspec": {
   "display_name": "Python 3",
   "language": "python",
   "name": "python3"
  },
  "language_info": {
   "codemirror_mode": {
    "name": "ipython",
    "version": 3
   },
   "file_extension": ".py",
   "mimetype": "text/x-python",
   "name": "python",
   "nbconvert_exporter": "python",
   "pygments_lexer": "ipython3",
   "version": "3.7.3"
  }
 },
 "nbformat": 4,
 "nbformat_minor": 2
}
