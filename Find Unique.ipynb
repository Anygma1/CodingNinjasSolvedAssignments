{
 "cells": [
  {
   "cell_type": "markdown",
   "metadata": {},
   "source": [
    "## Find Unique:\n",
    "Given an integer array of size 2N + 1. In this given array, N numbers are present twice and one number is present only once in the array.\n",
    "You need to find and return that number which is unique in the array.\n",
    "\n",
    "### Note : Given array will always contain odd number of elements.\n",
    "\n",
    "### Input format :\n",
    "\n",
    "Line 1 : Array size i.e. 2N+1\n",
    "\n",
    "Line 2 : Array elements (separated by space)\n",
    "\n",
    "### Output Format :\n",
    "\n",
    "Unique element present in the array\n",
    "\n",
    "### Constraints :\n",
    "1 <= N <= 10^3\n",
    "\n",
    "### Sample Input :\n",
    "\n",
    "7\n",
    "\n",
    "2 3 1 6 3 6 2\n",
    "\n",
    "### Sample Output :\n",
    "\n",
    "1"
   ]
  },
  {
   "cell_type": "code",
   "execution_count": 9,
   "metadata": {},
   "outputs": [
    {
     "name": "stdout",
     "output_type": "stream",
     "text": [
      "7\n",
      "2 4 6 8 6 4 2\n",
      "8\n"
     ]
    }
   ],
   "source": [
    "def rev(li, l):\n",
    "    res = li[0]\n",
    "    for i in range(1, l):\n",
    "        res = res ^ li[i]\n",
    "    return res\n",
    "n = int(input())\n",
    "li = [int(x) for x in input().split()[:n]]\n",
    "\n",
    "print(rev(li, len(li)))\n",
    "\n"
   ]
  }
 ],
 "metadata": {
  "kernelspec": {
   "display_name": "Python 3",
   "language": "python",
   "name": "python3"
  },
  "language_info": {
   "codemirror_mode": {
    "name": "ipython",
    "version": 3
   },
   "file_extension": ".py",
   "mimetype": "text/x-python",
   "name": "python",
   "nbconvert_exporter": "python",
   "pygments_lexer": "ipython3",
   "version": "3.7.3"
  }
 },
 "nbformat": 4,
 "nbformat_minor": 2
}
