{
 "cells": [
  {
   "cell_type": "markdown",
   "metadata": {},
   "source": [
    "## Pair sum:\n",
    "Given a random integer array A and a number x. Find and print the pair of elements in the array which sum to x.\n",
    "Array A can contain duplicate elements.\n",
    "While printing a pair, print the smaller element first.\n",
    "That is, if a valid pair is (6, 5) print \"5 6\". There is no constraint that out of 5 pairs which have to be printed in 1st line. You can print pairs in any order, just be careful about the order of elements in a pair.\n",
    "\n",
    "### Input format :\n",
    "\n",
    "Line 1 : Integer N (Array size)\n",
    "\n",
    "Line 2 : Array elements (separated by space)\n",
    "\n",
    "Line 3 : Integer x\n",
    "\n",
    "### Output format :\n",
    "\n",
    "Line 1 : Pair 1 elements (separated by space)\n",
    "\n",
    "Line 2 : Pair 2 elements (separated by space)\n",
    "\n",
    "Line 3 : and so on\n",
    "\n",
    "### Constraints :\n",
    "\n",
    "1 <= N <= 1000\n",
    "\n",
    "1 <= x <= 100\n",
    "\n",
    "### Sample Input:\n",
    "\n",
    "9\n",
    "\n",
    "1 3 6 2 5 4 3 2 4\n",
    "\n",
    "7\n",
    "\n",
    "### Sample Output :\n",
    "\n",
    "1 6\n",
    "\n",
    "3 4\n",
    "\n",
    "3 4\n",
    "\n",
    "2 5\n",
    "\n",
    "2 5\n",
    "\n",
    "3 4\n",
    "\n",
    "3 4\n",
    " "
   ]
  },
  {
   "cell_type": "code",
   "execution_count": 8,
   "metadata": {},
   "outputs": [
    {
     "name": "stdout",
     "output_type": "stream",
     "text": [
      "9\n",
      "1 3 6 2 5 4 3 2 4\n",
      "7\n",
      "1 6\n",
      "3 4\n",
      "3 4\n",
      "2 5\n",
      "2 5\n",
      "3 4\n",
      "3 4\n"
     ]
    }
   ],
   "source": [
    "def pairSum(ar, n, x):\n",
    "    for i in range(n):\n",
    "        for j in range(i+1,n):\n",
    "            if ar[i]+ar[j] == x:\n",
    "                if ar[i] < ar[j]:\n",
    "                    print(ar[i],end =' ')\n",
    "                    print(ar[j])\n",
    "                    \n",
    "                else:\n",
    "                    print(ar[j],end =' ')\n",
    "                    print(ar[i])\n",
    "           \n",
    "        \n",
    "\n",
    "n = int(input())\n",
    "ar = [int(x) for x in input().split()[:n]]\n",
    "x = int(input())\n",
    "\n",
    "pairSum(ar, n, x)\n"
   ]
  }
 ],
 "metadata": {
  "kernelspec": {
   "display_name": "Python 3",
   "language": "python",
   "name": "python3"
  },
  "language_info": {
   "codemirror_mode": {
    "name": "ipython",
    "version": 3
   },
   "file_extension": ".py",
   "mimetype": "text/x-python",
   "name": "python",
   "nbconvert_exporter": "python",
   "pygments_lexer": "ipython3",
   "version": "3.7.3"
  }
 },
 "nbformat": 4,
 "nbformat_minor": 2
}
