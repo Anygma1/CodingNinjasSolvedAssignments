{
 "cells": [
  {
   "cell_type": "markdown",
   "metadata": {},
   "source": [
    "## Second Largest in array:\n",
    "Given a random integer array of size n, find and return the second largest element present in the array.\n",
    "If n <= 1 or all elements are same in the array, return -2147483648 i.e. -2^31.\n",
    "\n",
    "### Input format :\n",
    "Line 1 : Integer n (Array Size)\n",
    "\n",
    "Line 2 : Array elements (separated by space)\n",
    "\n",
    "### Output Format :\n",
    "Second largest element\n",
    "\n",
    "### Constraints :\n",
    "1 <= N <= 10^6\n",
    "\n",
    "### Sample Input 1:\n",
    "7\n",
    "\n",
    "2 13 4 1 3 6 28\n",
    "\n",
    "### Sample Output 1:\n",
    "13\n",
    "\n",
    "### Sample Input 2:\n",
    "5\n",
    "9 3 6 2 9\n",
    "### Sample Output 2:\n",
    "6"
   ]
  },
  {
   "cell_type": "code",
   "execution_count": 2,
   "metadata": {},
   "outputs": [
    {
     "name": "stdout",
     "output_type": "stream",
     "text": [
      "7\n",
      "25 4 25 8 9 6 12\n",
      "12\n"
     ]
    }
   ],
   "source": [
    "def secondLargest(n, arr):\n",
    "    x = arr[0]\n",
    "    \n",
    "    if arr.count(x) == n or n <=1:\n",
    "        print(-2147483648)\n",
    "        \n",
    "    else:\n",
    "        arr.sort()\n",
    "        m = max(arr)\n",
    "        c = arr.count(m)\n",
    "        \n",
    "        print(arr[n-1-c])\n",
    "\n",
    "# Main\n",
    "n=int(input())\n",
    "arr=list(int(i) for i in input().strip().split(' '))\n",
    "\n",
    "secondLargest(n, arr)"
   ]
  }
 ],
 "metadata": {
  "kernelspec": {
   "display_name": "Python 3",
   "language": "python",
   "name": "python3"
  },
  "language_info": {
   "codemirror_mode": {
    "name": "ipython",
    "version": 3
   },
   "file_extension": ".py",
   "mimetype": "text/x-python",
   "name": "python",
   "nbconvert_exporter": "python",
   "pygments_lexer": "ipython3",
   "version": "3.7.3"
  }
 },
 "nbformat": 4,
 "nbformat_minor": 2
}
