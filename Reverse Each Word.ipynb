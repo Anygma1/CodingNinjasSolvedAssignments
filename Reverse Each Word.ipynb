{
 "cells": [
  {
   "cell_type": "markdown",
   "metadata": {},
   "source": [
    "## Reverse Each Word:\n",
    "Given a string S, reverse each word of a string individually. For eg. if a string is \"abc def\", reversed string should be \"cba fed\".\n",
    "\n",
    "### Input Format :\n",
    "String S\n",
    "\n",
    "### Output Format :\n",
    "Updated string\n",
    "\n",
    "### Constraints :\n",
    "1 <= Length of S <= 1000\n",
    "\n",
    "### Sample Input :\n",
    "Welcome to Coding Ninjas\n",
    "\n",
    "### Sample Output:\n",
    "emocleW ot gnidoC sajniN"
   ]
  },
  {
   "cell_type": "code",
   "execution_count": null,
   "metadata": {},
   "outputs": [],
   "source": [
    "def reverseEachWord(str):\n",
    "    li = str.split(' ')\n",
    "    size = len(li)\n",
    "\n",
    "    for i in range(size):\n",
    "        s = li[i]\n",
    "        oSize = len(s)\n",
    "        for j in range(oSize-1, -1,-1):\n",
    "            print(s[j],end ='')\n",
    "        print('', end =' ')\n",
    "        \n",
    "str = input()\n",
    "reverseEachWord(str)"
   ]
  }
 ],
 "metadata": {
  "kernelspec": {
   "display_name": "Python 3",
   "language": "python",
   "name": "python3"
  },
  "language_info": {
   "codemirror_mode": {
    "name": "ipython",
    "version": 3
   },
   "file_extension": ".py",
   "mimetype": "text/x-python",
   "name": "python",
   "nbconvert_exporter": "python",
   "pygments_lexer": "ipython3",
   "version": "3.7.3"
  }
 },
 "nbformat": 4,
 "nbformat_minor": 2
}
