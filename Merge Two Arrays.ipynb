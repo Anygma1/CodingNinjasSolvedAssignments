{
 "cells": [
  {
   "cell_type": "markdown",
   "metadata": {},
   "source": [
    "## Merge Two Sorted Arrays:\n",
    "Given two sorted arrays of Size M and N respectively, merge them into a third array such that the third array is also sorted.\n",
    "\n",
    "### Input Format :\n",
    "\n",
    "Line 1 : Size of first array i.e. M\n",
    "\n",
    "Line 2 : M elements of first array separated by space\n",
    "\n",
    "Line 3 : Size of second array i.e. N\n",
    "\n",
    "Line 2 : N elements of second array separated by space\n",
    "\n",
    "### Output Format :\n",
    "\n",
    "M + N integers i.e. elements of third sorted array separated by spaces.\n",
    "\n",
    "### Constraints :\n",
    "\n",
    "1 <= M, N <= 10^6\n",
    "\n",
    "### Sample Input :\n",
    "\n",
    "5\n",
    "\n",
    "1 3 4 7 11\n",
    "\n",
    "4\n",
    "\n",
    "2 4 6 13\n",
    "\n",
    "### Sample Output :\n",
    "\n",
    "1 2 3 4 4 6 7 11 13 "
   ]
  },
  {
   "cell_type": "code",
   "execution_count": 4,
   "metadata": {},
   "outputs": [
    {
     "name": "stdout",
     "output_type": "stream",
     "text": [
      "5 \n",
      "1 3 4 7 11 \n",
      "4 \n",
      "2 4 6 13\n",
      "1 2 3 4 4 6 7 11 13 "
     ]
    }
   ],
   "source": [
    "def mergeArrays(ar1, ar2):\n",
    "    i = 0\n",
    "    j = 0\n",
    "    res = []\n",
    "    while i < len(ar1) and j < len(ar2):\n",
    "        if ar1[i] < ar2[j]:\n",
    "            res.append(ar1[i])\n",
    "            i+=1\n",
    "            \n",
    "        elif ar1[i] > ar2[j]:\n",
    "            res.append(ar2[j])\n",
    "            j+=1\n",
    "            \n",
    "        else:\n",
    "            res.append(ar1[i])\n",
    "            res.append(ar2[j])\n",
    "            i+=1\n",
    "            j+=1\n",
    "            \n",
    "    if i < len(ar1):\n",
    "        for k in range(i, len(ar1)):\n",
    "            res.append(ar1[k])\n",
    "            \n",
    "    if j < len(ar2):\n",
    "        for k in range(j, len(ar2)):\n",
    "            res.append(ar2[k])\n",
    "            \n",
    "    for i in res:\n",
    "        print(i, end =' ')       \n",
    "            \n",
    "    \n",
    "n = int(input())\n",
    "ar1 = [int(x) for x in input().split()[:n]]\n",
    "\n",
    "m = int(input())\n",
    "ar2 = [int(x) for x in input().split()[:m]]\n",
    "\n",
    "mergeArrays(ar1, ar2)\n",
    "\n"
   ]
  }
 ],
 "metadata": {
  "kernelspec": {
   "display_name": "Python 3",
   "language": "python",
   "name": "python3"
  },
  "language_info": {
   "codemirror_mode": {
    "name": "ipython",
    "version": 3
   },
   "file_extension": ".py",
   "mimetype": "text/x-python",
   "name": "python",
   "nbconvert_exporter": "python",
   "pygments_lexer": "ipython3",
   "version": "3.7.3"
  }
 },
 "nbformat": 4,
 "nbformat_minor": 2
}
