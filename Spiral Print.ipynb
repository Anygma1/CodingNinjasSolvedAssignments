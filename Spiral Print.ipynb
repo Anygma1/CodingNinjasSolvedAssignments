{
 "cells": [
  {
   "cell_type": "markdown",
   "metadata": {},
   "source": [
    "## Spiral Print:\n",
    "Given an N*M 2D array, print it in spiral form. That is, first you need to print the 1st row, then last column, then last row and then first column and so on.\n",
    "\n",
    "Print every element only once.\n",
    "\n",
    "### Input format :\n",
    "Line 1 : N and M, No. of rows & No. of columns (separated by space) followed by N*M  elements in row wise fashion.\n",
    "\n",
    "Sample Input :\n",
    " 4 4 1 2 3 4 5 6 7 8 9 10 11 12 13 14 15 16\n",
    "\n",
    "Sample Output :\n",
    "1 2 3 4 8 12 16 15 14 13 9 5 6 7 11 10 "
   ]
  },
  {
   "cell_type": "code",
   "execution_count": 1,
   "metadata": {},
   "outputs": [
    {
     "name": "stdout",
     "output_type": "stream",
     "text": [
      " 4 4 1 2 3 4 5 6 7 8 9 10 11 12 13 14 15 16\n",
      "1 2 3 4 8 12 16 15 14 13 9 5 6 7 11 10 "
     ]
    }
   ],
   "source": [
    "def spiralPrint(a):\n",
    "    m = len(a)\n",
    "    n = len(a[0])\n",
    "    \n",
    "    k = 0; l = 0\n",
    "\n",
    "    while (k < m and l < n) : \n",
    "        for i in range(l, n) : \n",
    "            print(a[k][i], end = \" \") \n",
    "              \n",
    "        k += 1\n",
    "  \n",
    "        for i in range(k, m) : \n",
    "            print(a[i][n - 1], end = \" \") \n",
    "              \n",
    "        n -= 1\n",
    "  \n",
    "        if ( k < m) : \n",
    "              \n",
    "            for i in range(n - 1, (l - 1), -1) : \n",
    "                print(a[m - 1][i], end = \" \") \n",
    "              \n",
    "            m -= 1\n",
    "          \n",
    "        if (l < n) : \n",
    "            for i in range(m - 1, k - 1, -1) : \n",
    "                print(a[i][l], end = \" \") \n",
    "              \n",
    "            l += 1\n",
    "\n",
    "    \n",
    "#Main\n",
    "l=[int(i) for i in input().strip().split(' ')]\n",
    "m, n=l[0], l[1]\n",
    "arr = [ [ l[(j*n)+i+2] for i in range(n)] for j in range(m)]\n",
    "spiralPrint(arr)\n"
   ]
  }
 ],
 "metadata": {
  "kernelspec": {
   "display_name": "Python 3",
   "language": "python",
   "name": "python3"
  },
  "language_info": {
   "codemirror_mode": {
    "name": "ipython",
    "version": 3
   },
   "file_extension": ".py",
   "mimetype": "text/x-python",
   "name": "python",
   "nbconvert_exporter": "python",
   "pygments_lexer": "ipython3",
   "version": "3.7.3"
  }
 },
 "nbformat": 4,
 "nbformat_minor": 2
}
