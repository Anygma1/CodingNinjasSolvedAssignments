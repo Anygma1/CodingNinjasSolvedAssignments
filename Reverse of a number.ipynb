{
 "cells": [
  {
   "cell_type": "markdown",
   "metadata": {},
   "source": [
    "## Reverse of a number:\n",
    "Write a program to generate the reverse of a given number N. Print the corresponding reverse number.\n",
    "\n",
    "### Input format :\n",
    "Integer N\n",
    "\n",
    "### Constraints:\n",
    "Time Limit: 1 second\n",
    "\n",
    "### Output format :\n",
    "Corresponding reverse number\n",
    "\n",
    "### Sample Input 1 :\n",
    "1234\n",
    "\n",
    "### Sample Output 1 :\n",
    "4321\n",
    "\n",
    "### Sample Input 2 :\n",
    "1980\n",
    "\n",
    "### Sample Output 2 :\n",
    "891"
   ]
  },
  {
   "cell_type": "code",
   "execution_count": null,
   "metadata": {},
   "outputs": [],
   "source": [
    "def reverse(n):\n",
    "    rn = 0    \n",
    "    while(n > 0):    \n",
    "        r = n %10    \n",
    "        rn = (rn *10) + r    \n",
    "        n = n //10    \n",
    "    return rn\n",
    "\n",
    "n=int(input())\n",
    "result = reverse(n)\n",
    "print(result)"
   ]
  }
 ],
 "metadata": {
  "kernelspec": {
   "display_name": "Python 3",
   "language": "python",
   "name": "python3"
  },
  "language_info": {
   "codemirror_mode": {
    "name": "ipython",
    "version": 3
   },
   "file_extension": ".py",
   "mimetype": "text/x-python",
   "name": "python",
   "nbconvert_exporter": "python",
   "pygments_lexer": "ipython3",
   "version": "3.7.3"
  }
 },
 "nbformat": 4,
 "nbformat_minor": 2
}
