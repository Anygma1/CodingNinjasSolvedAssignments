{
 "cells": [
  {
   "cell_type": "markdown",
   "metadata": {},
   "source": [
    "Given two random integer arrays of size m and n, print their intersection. That is, print all the elements that are present in both the given arrays.\n",
    "Input arrays can contain duplicate elements.\n",
    "\n",
    "### Note : Order of elements are not important\n",
    "\n",
    "### Input format :\n",
    "\n",
    "Line 1 : Array 1 Size\n",
    "\n",
    "Line 2 : Array 1 elements (separated by space)\n",
    "\n",
    "Line 3 : Array 2 Size\n",
    "\n",
    "Line 4 : Array 2 elements (separated by space)\n",
    "\n",
    "### Output format :\n",
    "\n",
    "Print intersection elements in different lines\n",
    "\n",
    "### Constraints :\n",
    "\n",
    "1 <= m, n <= 10^3\n",
    "\n",
    "### Sample Input 1 :\n",
    "\n",
    "6\n",
    "\n",
    "2 6 8 5 4 3\n",
    "\n",
    "4\n",
    "\n",
    "2 3 4 7 \n",
    "\n",
    "### Sample Output 1 :\n",
    "\n",
    "2 \n",
    "\n",
    "4 \n",
    "\n",
    "3\n",
    "\n",
    "### Sample Input 2 :\n",
    "\n",
    "4\n",
    "\n",
    "2 6 1 2\n",
    "\n",
    "5\n",
    "\n",
    "1 2 3 4 2\n",
    "\n",
    "### Sample Output 2 :\n",
    "\n",
    "2 \n",
    "\n",
    "2\n",
    "\n",
    "1"
   ]
  },
  {
   "cell_type": "code",
   "execution_count": 26,
   "metadata": {},
   "outputs": [
    {
     "name": "stdout",
     "output_type": "stream",
     "text": [
      "5\n",
      "1 3 5 7 9\n",
      "7\n",
      "2 4 6 8 5 0 1 \n",
      "1\n",
      "5\n"
     ]
    }
   ],
   "source": [
    "def arrayIntersection(a, b):\n",
    "    ans = []\n",
    "    a.sort()\n",
    "    b.sort()\n",
    "    i, j = 0, 0\n",
    "    while i < len(a) and j < len(b):\n",
    "        if a[i] == b[j]:\n",
    "            if i == 0 or a[i - 1] != b[i]:\n",
    "                ans.append(a[i])\n",
    "            i += 1\n",
    "            j += 1\n",
    "        elif a[i] < b[j]:\n",
    "            i += 1\n",
    "        else:\n",
    "            j += 1\n",
    "    return ans\n",
    "        \n",
    "\n",
    "m = int(input())\n",
    "arr1 = [int(x) for x in input().split()[:m]]\n",
    "\n",
    "n = int(input())\n",
    "arr2 = [int(x) for x in input().split()[:n]]\n",
    "\n",
    "\n",
    "res =arrayIntersection(arr1, arr2)\n",
    "\n",
    "for ele in res:\n",
    "    print(ele)\n"
   ]
  },
  {
   "cell_type": "code",
   "execution_count": null,
   "metadata": {},
   "outputs": [],
   "source": []
  }
 ],
 "metadata": {
  "kernelspec": {
   "display_name": "Python 3",
   "language": "python",
   "name": "python3"
  },
  "language_info": {
   "codemirror_mode": {
    "name": "ipython",
    "version": 3
   },
   "file_extension": ".py",
   "mimetype": "text/x-python",
   "name": "python",
   "nbconvert_exporter": "python",
   "pygments_lexer": "ipython3",
   "version": "3.7.3"
  }
 },
 "nbformat": 4,
 "nbformat_minor": 2
}
