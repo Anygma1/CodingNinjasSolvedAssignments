{
 "cells": [
  {
   "cell_type": "code",
   "execution_count": 7,
   "metadata": {},
   "outputs": [
    {
     "name": "stdout",
     "output_type": "stream",
     "text": [
      "4 2\n",
      "1 2 3 4 5 6 7 8\n",
      "20 1\n"
     ]
    }
   ],
   "source": [
    "def largetColSumAndIndex(li):\n",
    "    n = len(li)\n",
    "    m = len(li[0])\n",
    "    \n",
    "    max_sum = -1\n",
    "    max_index = -1\n",
    "    \n",
    "    for j in range(m):\n",
    "        sum = 0\n",
    "        for i in range(n):\n",
    "            sum += li[i][j]\n",
    "            \n",
    "        if sum > max_sum:\n",
    "            max_index = j\n",
    "            max_sum = sum\n",
    "            \n",
    "    print(max_sum,max_index)\n",
    "\n",
    "m, n=(int(i) for i in input().strip().split(' '))\n",
    "l=[int(i) for i in input().strip().split(' ')]\n",
    "arr = [ [ l[(j*n)+i] for i in range(n)] for j in range(m)]\n",
    "largetColSumAndIndex(arr)\n"
   ]
  },
  {
   "cell_type": "code",
   "execution_count": 5,
   "metadata": {},
   "outputs": [
    {
     "name": "stdout",
     "output_type": "stream",
     "text": [
      "4 2\n",
      "1 2 3 4 5 6 7 8\n",
      "24 3\n"
     ]
    }
   ],
   "source": [
    "def largetColSumAndIndex(arr):\n",
    "    n = len(li)\n",
    "    m = len(li[0])\n",
    "    \n",
    "    max_sum = -1\n",
    "    max_index = -1\n",
    "    \n",
    "    for j in range(m):\n",
    "        sum = 0\n",
    "        for ele in li:\n",
    "            sum += ele[j]\n",
    "            \n",
    "        if sum > max_sum:\n",
    "            max_index = j\n",
    "            max_sum = sum\n",
    "            \n",
    "    print(max_sum,max_index)\n",
    "\n",
    "m, n=(int(i) for i in input().strip().split(' '))\n",
    "l=[int(i) for i in input().strip().split(' ')]\n",
    "arr = [ [ l[(j*n)+i] for i in range(n)] for j in range(m)]\n",
    "largetColSumAndIndex(arr)\n"
   ]
  }
 ],
 "metadata": {
  "kernelspec": {
   "display_name": "Python 3",
   "language": "python",
   "name": "python3"
  },
  "language_info": {
   "codemirror_mode": {
    "name": "ipython",
    "version": 3
   },
   "file_extension": ".py",
   "mimetype": "text/x-python",
   "name": "python",
   "nbconvert_exporter": "python",
   "pygments_lexer": "ipython3",
   "version": "3.7.3"
  }
 },
 "nbformat": 4,
 "nbformat_minor": 2
}
