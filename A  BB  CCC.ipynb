{
 "cells": [
  {
   "cell_type": "markdown",
   "metadata": {},
   "source": [
    "## Alpha Pattern:\n",
    "Print the following pattern for the given N number of rows.\n",
    "\n",
    "Pattern for N = 3\n",
    "\n",
    "A\n",
    "\n",
    "BB\n",
    "\n",
    "CCC\n",
    "\n",
    "### Input format :\n",
    "Integer N (Total no. of rows)\n",
    "\n",
    "### Output format :\n",
    "Pattern in N lines\n",
    "\n",
    "### Sample Input :\n",
    "7\n",
    "\n",
    "### Sample Output :\n",
    "\n",
    "A\n",
    "\n",
    "BB\n",
    "\n",
    "CCC\n",
    "\n",
    "DDDD\n",
    "\n",
    "EEEEE\n",
    "\n",
    "FFFFFF\n",
    "\n",
    "GGGGGGG"
   ]
  },
  {
   "cell_type": "code",
   "execution_count": 1,
   "metadata": {},
   "outputs": [
    {
     "name": "stdout",
     "output_type": "stream",
     "text": [
      "5\n",
      "A\n",
      "BB\n",
      "CCC\n",
      "DDDD\n",
      "EEEEE\n"
     ]
    }
   ],
   "source": [
    "n = int(input())\n",
    "i=1\n",
    "\n",
    "while i <= n:\n",
    "    j=1\n",
    "    while j <= i:\n",
    "        ch = chr(ord('A')+i-1)\n",
    "        print(ch,end='')            \n",
    "        j=j+1\n",
    "    print()\n",
    "    i=i+1"
   ]
  }
 ],
 "metadata": {
  "kernelspec": {
   "display_name": "Python 3",
   "language": "python",
   "name": "python3"
  },
  "language_info": {
   "codemirror_mode": {
    "name": "ipython",
    "version": 3
   },
   "file_extension": ".py",
   "mimetype": "text/x-python",
   "name": "python",
   "nbconvert_exporter": "python",
   "pygments_lexer": "ipython3",
   "version": "3.7.3"
  }
 },
 "nbformat": 4,
 "nbformat_minor": 2
}
