{
 "cells": [
  {
   "cell_type": "markdown",
   "metadata": {},
   "source": [
    "## Code Binary Search:\n",
    "Given a sorted integer array (in ascending order) and an element x. You need to search this element x in the given input array using binary search. Return the index of element in the input.\n",
    "Indexing starts from 0.\n",
    "Return -1 if x is not present in the input array.\n",
    "### Input format :\n",
    "Line 1 : Integer N, Array Size\n",
    "Line 2 : Array elements (separated by space)\n",
    "Line 3 : Element to be searched (i.e. x)\n",
    "\n",
    "### Output Format :\n",
    "Index\n",
    "\n",
    "### Constraints :\n",
    "1 <= N <= 10^6\n",
    "\n",
    "### Sample Input 1:\n",
    "7\n",
    "1 3 7 9 11 12 45\n",
    "3\n",
    "\n",
    "### Sample Output 1:\n",
    "1\n",
    "\n",
    "### Sample Input 2:\n",
    "7\n",
    "1 2 3 4 5 6 7\n",
    "9\n",
    "### Sample Output 2:\n",
    "-1"
   ]
  },
  {
   "cell_type": "code",
   "execution_count": 6,
   "metadata": {},
   "outputs": [
    {
     "name": "stdout",
     "output_type": "stream",
     "text": [
      "7 \n",
      "1 3 7 9 11 12 45 \n",
      "3\n",
      "1\n"
     ]
    }
   ],
   "source": [
    "def binarySearch(ar, x):\n",
    "    l = 0\n",
    "    r = len(ar) - 1\n",
    "    mid = 0\n",
    "    while l <= r: \n",
    "        mid = l + (r - l)//2; \n",
    "         \n",
    "        if ar[mid] == x: \n",
    "            return mid \n",
    "  \n",
    "        elif ar[mid] < x: \n",
    "            l = mid + 1\n",
    "   \n",
    "        else: \n",
    "            r = mid - 1\n",
    "    return -1\n",
    "    \n",
    "\n",
    "n = int(input())\n",
    "ar = [int(x) for x in input().split()[:n]]\n",
    "x = int(input())\n",
    "\n",
    "print(binarySearch(ar, x))"
   ]
  }
 ],
 "metadata": {
  "kernelspec": {
   "display_name": "Python 3",
   "language": "python",
   "name": "python3"
  },
  "language_info": {
   "codemirror_mode": {
    "name": "ipython",
    "version": 3
   },
   "file_extension": ".py",
   "mimetype": "text/x-python",
   "name": "python",
   "nbconvert_exporter": "python",
   "pygments_lexer": "ipython3",
   "version": "3.7.3"
  }
 },
 "nbformat": 4,
 "nbformat_minor": 2
}
