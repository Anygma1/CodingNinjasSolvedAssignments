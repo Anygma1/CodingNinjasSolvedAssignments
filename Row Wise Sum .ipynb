{
 "cells": [
  {
   "cell_type": "markdown",
   "metadata": {},
   "source": [
    "## Row Wise Sum:\n",
    "Given a 2D integer array of size M*N, find and print the sum of ith row elements separated by space.\n",
    "\n",
    "### Input Format :\n",
    "Line 1 : Two integers M and N (separated by space) \n",
    "\n",
    "Line 2 : Matrix elements of each row (separated by space)\n",
    "\n",
    "### Output Format :\n",
    "\n",
    "Sum of every ith row elements (separated by space)\n",
    "\n",
    "### Constraints :\n",
    "1 <= M, N <= 10^3\n",
    "\n",
    "### Sample Input :\n",
    "4 2 \n",
    "\n",
    "1 2 3 4 5 6 7 8\n",
    "\n",
    "### Sample Output :\n",
    "3 7 11 15 "
   ]
  },
  {
   "cell_type": "code",
   "execution_count": 39,
   "metadata": {},
   "outputs": [
    {
     "name": "stdout",
     "output_type": "stream",
     "text": [
      "4 2\n",
      "1 2 3 4 5 6 7 8\n",
      "3 7 11 15 "
     ]
    }
   ],
   "source": [
    "def rowWiseSum(arr):\n",
    "    sum = 0\n",
    "    for row in arr:\n",
    "        for ele in row:\n",
    "            sum += ele\n",
    "        print(sum, end =' ')\n",
    "        sum = 0\n",
    "    \n",
    "#Main\n",
    "m, n=(int(i) for i in input().strip().split(' '))\n",
    "l=[int(i) for i in input().strip().split(' ')]\n",
    "arr = [ [ l[(j*n)+i] for i in range(n)] for j in range(m)]\n",
    "rowWiseSum(arr)\n",
    "\n",
    "\n"
   ]
  },
  {
   "cell_type": "code",
   "execution_count": 36,
   "metadata": {},
   "outputs": [
    {
     "data": {
      "text/plain": [
       "[[1, 2], [3, 4], [5, 6], [7, 8]]"
      ]
     },
     "execution_count": 36,
     "metadata": {},
     "output_type": "execute_result"
    }
   ],
   "source": [
    "arr"
   ]
  }
 ],
 "metadata": {
  "kernelspec": {
   "display_name": "Python 3",
   "language": "python",
   "name": "python3"
  },
  "language_info": {
   "codemirror_mode": {
    "name": "ipython",
    "version": 3
   },
   "file_extension": ".py",
   "mimetype": "text/x-python",
   "name": "python",
   "nbconvert_exporter": "python",
   "pygments_lexer": "ipython3",
   "version": "3.7.3"
  }
 },
 "nbformat": 4,
 "nbformat_minor": 2
}
