{
 "cells": [
  {
   "cell_type": "code",
   "execution_count": 16,
   "metadata": {},
   "outputs": [
    {
     "name": "stdout",
     "output_type": "stream",
     "text": [
      "0\n",
      "100\n",
      "20\n",
      "0       -17\n",
      "20       -6\n",
      "40       4\n",
      "60       15\n",
      "80       26\n",
      "100       37\n"
     ]
    }
   ],
   "source": [
    "def printTable(s,e,step):\n",
    "    while s<=e:\n",
    "        c = 5 * (s-32)/9\n",
    "        print(s, \"\t\", int(c))\n",
    "        s = s+ step\n",
    "\t\t\n",
    "s = int(input())\n",
    "e = int(input())\n",
    "step = int(input())\n",
    "printTable(s,e,step)"
   ]
  }
 ],
 "metadata": {
  "kernelspec": {
   "display_name": "Python 3",
   "language": "python",
   "name": "python3"
  },
  "language_info": {
   "codemirror_mode": {
    "name": "ipython",
    "version": 3
   },
   "file_extension": ".py",
   "mimetype": "text/x-python",
   "name": "python",
   "nbconvert_exporter": "python",
   "pygments_lexer": "ipython3",
   "version": "3.7.3"
  }
 },
 "nbformat": 4,
 "nbformat_minor": 2
}
