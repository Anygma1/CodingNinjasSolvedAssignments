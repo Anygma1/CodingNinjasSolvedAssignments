{
 "cells": [
  {
   "cell_type": "markdown",
   "metadata": {},
   "source": [
    "## Fahrenheit to Celsius Function:\n",
    "Given three values - Start Fahrenheit Value (S), End Fahrenheit value (E) and Step Size (W), you need to convert all Fahrenheit values from Start to End at the gap of W, into their corresponding Celsius values and print the table.\n",
    "\n",
    "### Input Format :\n",
    "\n",
    "3 integers - S, E and W respectively\n",
    "\n",
    "### Output Format :\n",
    "\n",
    "Fahrenheit to Celsius conversion table. One line for every Fahrenheit and Celsius Fahrenheit value. Fahrenheit value and its corresponding Celsius value should be separate by tab (\"\\t\")\n",
    "\n",
    "### Sample Input :\n",
    "\n",
    "0 \n",
    "\n",
    "100 \n",
    "\n",
    "20\n",
    "\n",
    "### Sample Output :\n",
    "\n",
    "0   -17\n",
    "\n",
    "20  -6\n",
    "\n",
    "40  4\n",
    "\n",
    "60  15\n",
    "\n",
    "80  26\n",
    "\n",
    "100 37"
   ]
  },
  {
   "cell_type": "code",
   "execution_count": 16,
   "metadata": {},
   "outputs": [
    {
     "name": "stdout",
     "output_type": "stream",
     "text": [
      "0\n",
      "100\n",
      "20\n",
      "0       -17\n",
      "20       -6\n",
      "40       4\n",
      "60       15\n",
      "80       26\n",
      "100       37\n"
     ]
    }
   ],
   "source": [
    "def printTable(s,e,step):\n",
    "    while s<=e:\n",
    "        c = 5 * (s-32)/9\n",
    "        print(s, \"\t\", int(c))\n",
    "        s = s+ step\n",
    "\t\t\n",
    "s = int(input())\n",
    "e = int(input())\n",
    "step = int(input())\n",
    "printTable(s,e,step)"
   ]
  }
 ],
 "metadata": {
  "kernelspec": {
   "display_name": "Python 3",
   "language": "python",
   "name": "python3"
  },
  "language_info": {
   "codemirror_mode": {
    "name": "ipython",
    "version": 3
   },
   "file_extension": ".py",
   "mimetype": "text/x-python",
   "name": "python",
   "nbconvert_exporter": "python",
   "pygments_lexer": "ipython3",
   "version": "3.7.3"
  }
 },
 "nbformat": 4,
 "nbformat_minor": 2
}
